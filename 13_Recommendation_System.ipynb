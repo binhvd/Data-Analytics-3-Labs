{
  "nbformat": 4,
  "nbformat_minor": 0,
  "metadata": {
    "colab": {
      "provenance": [],
      "include_colab_link": true
    },
    "language_info": {
      "codemirror_mode": {
        "name": "ipython",
        "version": 3
      },
      "file_extension": ".py",
      "mimetype": "text/x-python",
      "name": "python",
      "nbconvert_exporter": "python",
      "pygments_lexer": "ipython3",
      "version": "3.6.4"
    },
    "kernelspec": {
      "display_name": "Python 3",
      "language": "python",
      "name": "python3"
    }
  },
  "cells": [
    {
      "cell_type": "markdown",
      "metadata": {
        "id": "view-in-github",
        "colab_type": "text"
      },
      "source": [
        "<a href=\"https://colab.research.google.com/github/binhvd/Data-Analytics-3-Labs/blob/main/13_Recommendation_System.ipynb\" target=\"_parent\"><img src=\"https://colab.research.google.com/assets/colab-badge.svg\" alt=\"Open In Colab\"/></a>"
      ]
    },
    {
      "cell_type": "markdown",
      "metadata": {
        "id": "buLJ1N4K5kGd"
      },
      "source": [
        "# A Simple Recommender System in Python"
      ]
    },
    {
      "cell_type": "markdown",
      "metadata": {
        "id": "mPReLST55kGe"
      },
      "source": [
        "# What are we going to find in this notebook?\n",
        "* [What Is A Recommender System ?](#RS)\n",
        "* [Content-Based Recommender System](#CBRS)\n",
        "* [A Real-World Dataset](#RWDT)\n",
        "* [Matrix Factorization Based Recommender System](#MF)\n",
        " * [Programming A Movie Recommender In Python](#MFPy)\n",
        " * [Movie Recommender Demo](#demo)\n",
        "\n"
      ]
    },
    {
      "cell_type": "markdown",
      "metadata": {
        "id": "P0WNMwlL5kGe"
      },
      "source": [
        "<a id='RS'></a>\n",
        "# What Is A Recommender System?\n",
        "\n",
        "Recommender System is the name given to any software designed to recommend you objects (to purchase, to click on or  to watch) which are attractive to you with a high probability. Development of such systems became a hot topic for software developers and machine learning engineers in the last years. A well-performing recommender system can have significant boost in the profit many online platforms make.\n",
        "\n",
        "Nowadays, many of us interact with recommender systems on a daily basis. If you have an account in Amazon or Netflix or many similar online services, you may have received suggestions that often fit your interest. This can vary from a movie suggested by Netflix or very various products suggested by Amazon. The targeted advertisements on Facebook or the targeted pop-up advertisements in your browser are also other examples of applications of recommender systems. Almost no two person recieves the exact same advertisements or suggestions on an online platform.  All these personalized suggestions and advertistments use recommender systems to find the best match for your interests according to your former ratings, purchase or clicks.\n",
        "\n",
        "Although some of the suggestions that we receive from the existing automized recommender systems are very promising and suprisingly meet our interests, the opposite can also happen, as these systems are not perfect yet and their developments seems to have a long way ahead to improve. In this blog post I give you a brief overview about a subset of existing algorithms. I try to explain the *Matrix Factorization Collaborative Filtering algorithm* which is popular method used in many recommender systems,  step by step. I will show you how to programm this algorithm in Python and apply it on a toy problem to build a <a href=\"https://colab.research.google.com/drive/183a5zoC5DB38QnBh6rUl24sjlTZL-t-i\" target=\"_blank\">movie recommender system</a>. Building such simple systems on your own will help us to develop some insights about how the recommender systems interact with our data, as well as letting us know about the issues and weak points of such systems.\n",
        "\n",
        "\n",
        "Some of different approaches that are often used for recommender systems can be listed as following.\n",
        "* Content-Based Recommender System\n",
        "* Collaborative Filtering\n",
        " * Matrix Factorization\n",
        " * Deep Learning\n",
        " * Similarity-Based Recommender System\n",
        "   * Item-Based or User-Based\n",
        "       * cosinus-similarity\n",
        "       * ...\n",
        "* Hybrid\n",
        "\n",
        "One of the most straight-forward approaches to find a suitable recommendation for users of a platform is the *Content-Based Recommender System* approach. This method determines a rating value $R_{ij}$ for a specific user $u_i$ giving to a sepcific object $o_j$ by using a feature vector $\\vec{x}_i$ for the $i$-th user and a feature vector for the $j$-th object $\\vec{\\theta}_j$. We try to explain the idea of this approach in the [next section](#CBRS) with a very small example. The biggest problem with such algorithms is that we require to know the important features which have impact on the decisions each user make. It is really difficult to find such set of features. Even if we can define a reasonably good set of important features, the next big challenge is to rate this features for every single item and user. Such information is often not available or not practical to extract fully. Although many platforms have access to some information about the users might be used as features like age, gender etc, often these information are not enough to build good enough feature vectors.\n",
        "\n",
        "*Collaborative Filtering* algorithms aim at finding the most suitable suggestions for users without taking any explicit features into account and instead they make their decisions only based on the former interaction of the users with the system. These interactions might be number of clicks, user's ratings, user's purchases, etc. There are many different types of *Collaborative Filtering* inclduing the similarity-based algorithms which use some mathematical measures to find similarities between items or users. The item-based similarity-based algorithms suggest the user $i$ who is buying the item $j$ the items which are the most similar to the item $j$. The user-based similarity-based algorithms recommend the user $i$, to take a look at the items bought by the users which have a great similaty to user $i$. If you are an amazon user, you have already experienced interacting with such a system which after your purchase tells you: \"The item that you bought is often bought with ... and ... and ...\", listing a few other items. There are many different measures for finding similarity, correlation or dependency between items and/or users including  correlation coefficient of Bravais Pearson, rank-correlation coefficient of Spearman, cosimus similarity, Jaccard coefficient, etc.\n",
        "\n",
        "*Matrix Factorization* is a different collaborative filtering approach. The main idea behind the matrix factorization is to predict how the user $i$ would rate the item/movie $j$. This prediction is done based on former ratings given by all users. This algorithm is in some sense similar to the content-based method with this difference that we don't assume that the there are explicitly known features. We try to learn implicit features for all users and all objects by means of matrix factorization. I explian this method with more details and implement it in [Matrix Factorization](#MF) Section. \n",
        "\n",
        "Each of these methods have their own pros and cons and the real-world working recommender systems use a hybrid of different methods. But in this Blog-Post we stick to develop an understaing for the content-based algorithm and grasping the idea of Matrix Factorization and its implementation.\n"
      ]
    },
    {
      "cell_type": "markdown",
      "metadata": {
        "id": "gmznKTJG5kGf"
      },
      "source": [
        "$\\color{green}{\\text{Before starting}}$ let's run the following cell to have all the required libraries for this notebook."
      ]
    },
    {
      "cell_type": "code",
      "metadata": {
        "id": "pIdzh8Ji5kGf",
        "colab": {
          "base_uri": "https://localhost:8080/"
        },
        "outputId": "1662db24-5546-4d79-b2ce-9f12aa85440d"
      },
      "source": [
        "import matplotlib.pyplot as plt\n",
        "import seaborn as sns\n",
        "import pandas as pd \n",
        "import numpy as np\n",
        "import copy\n",
        "import random\n",
        "import scipy.io\n",
        "from scipy.optimize import minimize\n",
        "from scipy.optimize import differential_evolution\n",
        "#import pdb   #This library is used for debugging the code, otherwise it is not necessary. \n",
        "              #You can simply enter pdb.set_trace() somewhere in your code for debugging purposes.\n",
        "    \n",
        "# If you want to have direct access to the datasets and codes you can clone the following github repository    \n",
        "! git clone https://github.com/saminehbagheri/Recommender-System.git\n",
        "%cd Recommender-System  "
      ],
      "execution_count": 1,
      "outputs": [
        {
          "output_type": "stream",
          "name": "stdout",
          "text": [
            "Cloning into 'Recommender-System'...\n",
            "remote: Enumerating objects: 66, done.\u001b[K\n",
            "remote: Total 66 (delta 0), reused 0 (delta 0), pack-reused 66\u001b[K\n",
            "Unpacking objects: 100% (66/66), done.\n",
            "/content/Recommender-System\n"
          ]
        }
      ]
    },
    {
      "cell_type": "markdown",
      "metadata": {
        "id": "sQNadCc05kGk"
      },
      "source": [
        "<a id='CBRS'></a>\n",
        "# Content-Based Recommender System\n",
        "\n",
        "Let's start with a simple example for the **content-based approach**. \n",
        "\n",
        "Let's imagine a tiny problem where we only have three users: Samineh, Markus and Peter. If we assume that the only important features for these users (of course in a very simplified scenario) are how much a movie is (1)romantic, (2) comedy  or (3) action, then we can assume a feature vector of size 3 for each user. $\\vec{x}_i=\\{interest~in~romance, interest~in~comdey, interest~in~action\\}$. \n",
        "\n",
        "We had the chance to ask all of our three users to let us know about their interests by filling their feature vectors. They could have rated each element with 0 if they don't have any interest, 1 if they really care about that feature and 0.5 if their feeling is somewhere in between. \n",
        "\n",
        "Samineh just likes romance movies and dislikes action and comedy a lot so her feature matrix look like: $\\vec{x_s}=[1,0,0]$. Markus likes comedy movies and is not into romance and action at all $\\vec{x_m}=[0,1,0]$. Peter dislikes romance but loves action and doesn't mind if there is a sense of humor in the movies so his feature vector looks like: $\\vec{x_p}=[0,0.5,1]$. Stacking all these feature vectors together makes the user feature matrix.  \n",
        "\n"
      ]
    },
    {
      "cell_type": "code",
      "metadata": {
        "id": "IwVCTOC_5kGl",
        "colab": {
          "base_uri": "https://localhost:8080/"
        },
        "outputId": "1e863771-18b0-4f5f-d1c0-a513b3095eb4"
      },
      "source": [
        "USER=pd.DataFrame([( [1, 0, 0]), ( [0, 1, 0]), ( [0, 0.5, 1])], \n",
        "                  columns=['Samineh','Markus','Peter'],\n",
        "                  index=['Romantic','Comedy','Action']);\n",
        "print(USER)"
      ],
      "execution_count": 2,
      "outputs": [
        {
          "output_type": "stream",
          "name": "stdout",
          "text": [
            "          Samineh  Markus  Peter\n",
            "Romantic        1     0.0      0\n",
            "Comedy          0     1.0      0\n",
            "Action          0     0.5      1\n"
          ]
        }
      ]
    },
    {
      "cell_type": "markdown",
      "metadata": {
        "id": "AIsJC0WR5kGo"
      },
      "source": [
        "We have three movies in our system Titanic, Terminator and Home Alone and we want to figure out what is the best recommendation for each user. In order to do that we need to define a feature vector for each movie. We ask some expert to do that for us. Titanic is a very romantic movie and not funny or action at all so its fair if we rate its feature vector as $\\vec{\\theta}_{Titanic}=[1,0,0]$. Terminator is an action movie with very little essence of romance and comedy, so our movie expert filled the Terminator's feature vector as $\\vec{\\theta}_{Terminator}=[0.2,0.1,1]$. The home alone is a comedy movie $\\vec{\\theta}_{Home-alone}=[0.0,1,0.2]$. Stacking all of the movie features together will give a movie feature matrix."
      ]
    },
    {
      "cell_type": "code",
      "metadata": {
        "id": "CU0pQzlf5kGo",
        "outputId": "65427bb5-a823-4a84-d285-e267f31d941e",
        "colab": {
          "base_uri": "https://localhost:8080/"
        }
      },
      "source": [
        "ITEM=pd.DataFrame([( [1, 0, 0]), ( [0.2, 0.1, 1]), ( [0, 1, 0.2])],\n",
        "                  columns=['Titanic','Terminator','Home Alone'],\n",
        "                  index=['Romantic','Comedy','Action']);\n",
        "print(ITEM)"
      ],
      "execution_count": null,
      "outputs": [
        {
          "output_type": "stream",
          "name": "stdout",
          "text": [
            "          Titanic  Terminator  Home Alone\n",
            "Romantic      1.0         0.0         0.0\n",
            "Comedy        0.2         0.1         1.0\n",
            "Action        0.0         1.0         0.2\n"
          ]
        }
      ]
    },
    {
      "cell_type": "markdown",
      "metadata": {
        "id": "L30VyoaV5kGr"
      },
      "source": [
        "The dot product of the $i$-th user feature vector $\\vec{x}_i$ and the $j$-th movie feature $\\vec{x}_j$ provides a sort of similarity measure. The larger the dot product $\\vec{x_i}\\cdot\\vec{\\theta_j}=R_{ij}$ is the likelier that the user $i$ is going to like the movie $j$. We can determine all the similarity measures for each user and item simply by multiplying the user feature matrix and the movie feature matrix, as follows:"
      ]
    },
    {
      "cell_type": "code",
      "metadata": {
        "id": "yvDvsmJe5kGs",
        "outputId": "1c608d18-24c4-4d4b-c728-cb82776e3702",
        "colab": {
          "base_uri": "https://localhost:8080/"
        }
      },
      "source": [
        "print(ITEM.T.dot(USER))"
      ],
      "execution_count": null,
      "outputs": [
        {
          "output_type": "stream",
          "name": "stdout",
          "text": [
            "            Samineh  Markus  Peter\n",
            "Titanic         1.0     0.2    0.0\n",
            "Terminator      0.0     0.6    1.0\n",
            "Home Alone      0.0     1.1    0.2\n"
          ]
        }
      ]
    },
    {
      "cell_type": "markdown",
      "metadata": {
        "id": "1x9TCDMu5kGu"
      },
      "source": [
        "So according to this simple system we can recommend Titanic to Samineh. To Markus we might recommend Home Alone first and as a second choice Terminator. Th best recommendation for Peter is the Terminator. \n",
        "\n",
        "I think it is already pretty clear that the main problem with the content-based recommnder systems is the missing information about the feature vectors. First of all it is  very complicated to consider all the important features explicitly. Moreover, it is almost impossible to weight all the features for all users and all items. [Matrix Factorization](#MF) tries to learn these feature matrices by using the exisitng ratings of users.  "
      ]
    },
    {
      "cell_type": "markdown",
      "metadata": {
        "id": "2yF1jz7s5kGv"
      },
      "source": [
        "<a id='RWDT'></a>\n",
        "# Real-World Datasets\n",
        "How do the real-world datasets (for recommender systems) often look like? The most common available sort of the data for  recommender systems are user's rating. The item-user rating matrix often is a huge but sparse matrix.\n",
        "The dataset that we use in this blog-post is a movie-user rating dataset. \n",
        "\n",
        "We start with loading the data.\n",
        "We use a dataset with 943 users and 1682 movies. The dataset is provided in mat format. In this mat file there are two matrices. Matrix Y and R. \n",
        "\n",
        "Y: contains the rating values. Each cell of this matrix can have integer values between 0 to 5. The cells with 0 are actually the unknowns. So, the cell $R_{ij}$=0 means the $i$-th user didn't give any rating for the $j$-th movie. The cells with any value between 1 to 5 are rated by users. Higher ratings represent higher interests.\n",
        "\n",
        "R: a matrix having 0 or 1. This matrix has 0 values in the unknown cells and 1 for the cells where a rating is provided."
      ]
    },
    {
      "cell_type": "code",
      "metadata": {
        "id": "lpr0TMS_5kGw",
        "outputId": "d2338bdf-d6d5-4e66-c430-5c7bdfdf767c",
        "colab": {
          "base_uri": "https://localhost:8080/"
        }
      },
      "source": [
        "mat = scipy.io.loadmat('ex8_movies.mat')\n",
        "movie_names = pd.read_csv('movie_ids.txt',delimiter=';',header=None)[1]\n",
        "Y=mat['Y']\n",
        "R=mat['R']\n",
        "num_user=Y.shape[1]\n",
        "num_movie=Y.shape[0]\n",
        "overallRating=np.sum(np.where(Y==1,1,0))\n",
        "print(\"number of users:\"+str(num_user))\n",
        "print(\"number of movies:\"+str(num_movie))\n",
        "print(\"The overall number of ratings done is: \"+str(overallRating))\n",
        "print(\"Only \"+str(100*overallRating/(num_user*num_movie))+\"%  of the matrix is filled\")"
      ],
      "execution_count": null,
      "outputs": [
        {
          "output_type": "stream",
          "name": "stdout",
          "text": [
            "number of users:943\n",
            "number of movies:1682\n",
            "The overall number of ratings done is: 6110\n",
            "Only 0.3852152981541189%  of the matrix is filled\n"
          ]
        }
      ]
    },
    {
      "cell_type": "markdown",
      "metadata": {
        "id": "GA29NUAz5kGy"
      },
      "source": [
        "Let's take a look at the rating distribution. The following cell plotsd the frequency of the ratings in a bar-chart."
      ]
    },
    {
      "cell_type": "code",
      "metadata": {
        "id": "mXsqM6P45kG0",
        "outputId": "d1eb8e2d-d6b7-48e5-a80d-807b2c4a2ddc",
        "colab": {
          "base_uri": "https://localhost:8080/",
          "height": 282
        }
      },
      "source": [
        "def howManyR(x):\n",
        "    return np.sum(np.where(Y==x,1,0))\n",
        "    \n",
        "ratingFrequency=list(map(lambda x:np.sum(np.where(Y==x,1,0)), [0,1, 2, 3, 4,5]))\n",
        "plt.style.use(['dark_background'])\n",
        "plt.bar([0,1,2,3,4,5], ratingFrequency,log=True)"
      ],
      "execution_count": null,
      "outputs": [
        {
          "output_type": "execute_result",
          "data": {
            "text/plain": [
              "<BarContainer object of 6 artists>"
            ]
          },
          "metadata": {},
          "execution_count": 6
        },
        {
          "output_type": "display_data",
          "data": {
            "text/plain": [
              "<Figure size 432x288 with 1 Axes>"
            ],
            "image/png": "[encoded data removed]"
          },
          "metadata": {}
        }
      ]
    },
    {
      "cell_type": "markdown",
      "metadata": {
        "id": "6ui9TBsh5kG3"
      },
      "source": [
        "As we can see on the plot most of the elements of the rating matrix are zeros meaning that the rating matrix is very sparse. So most of the users did not rate most of the movies. The distribution of ratings is skewed to the right side meaning that there more good ratings and bad ones. In order to have a more clear idea about the percentage of ratings given by each user we make the following plot:"
      ]
    },
    {
      "cell_type": "code",
      "metadata": {
        "id": "4OsVgaKu5kG4",
        "outputId": "d8a20891-f24c-4818-db99-da8e4d3dbd87",
        "colab": {
          "base_uri": "https://localhost:8080/",
          "height": 275
        }
      },
      "source": [
        "ratingPercentage=100*np.sum(R,axis=0)/Y.shape[0]\n",
        "flierprops = dict(marker='o', markerfacecolor='r', markersize=8,\n",
        "                  linestyle='none', markeredgecolor='w')\n",
        "bp=plt.boxplot(ratingPercentage\n",
        "               ,boxprops=dict(linewidth=1.0, color='white')\n",
        "               ,whiskerprops=dict(linewidth=1.0, color='white')\n",
        "               ,capprops=dict(linewidth=1.0, color='white')\n",
        "               ,medianprops=dict(linewidth=1.0, color='white')\n",
        "               ,flierprops=flierprops)\n",
        "plt.ylabel('% rated movie by each user', fontsize=16)\n",
        "plt.xticks([])"
      ],
      "execution_count": null,
      "outputs": [
        {
          "output_type": "execute_result",
          "data": {
            "text/plain": [
              "([], <a list of 0 Text major ticklabel objects>)"
            ]
          },
          "metadata": {},
          "execution_count": 7
        },
        {
          "output_type": "display_data",
          "data": {
            "text/plain": [
              "<Figure size 432x288 with 1 Axes>"
            ],
            "image/png": "[encoded data removed]"
          },
          "metadata": {}
        }
      ]
    },
    {
      "cell_type": "markdown",
      "metadata": {
        "id": "Yh_cTFvG5kG6"
      },
      "source": [
        "In the above plot we can see that most of the users rated less than 10 percent of the movies, although there are very few users who rated up to 40 percent of the movies.\n"
      ]
    },
    {
      "cell_type": "code",
      "metadata": {
        "id": "kHGgAV3X5kG7",
        "outputId": "c3e35a7e-4c61-4e00-aa8a-be7e2d9dcd06",
        "colab": {
          "base_uri": "https://localhost:8080/",
          "height": 258
        }
      },
      "source": [
        "plt.imshow(Y.T, cmap='hot', interpolation='none')\n",
        "plt.colorbar()\n",
        "plt.title('Rating Matrix Heatmap \\n', fontsize=16)\n",
        "plt.show()"
      ],
      "execution_count": null,
      "outputs": [
        {
          "output_type": "display_data",
          "data": {
            "text/plain": [
              "<Figure size 432x288 with 2 Axes>"
            ],
            "image/png": "[encoded data removed]"
          },
          "metadata": {}
        }
      ]
    },
    {
      "cell_type": "markdown",
      "metadata": {
        "id": "3j0lq2p75kG9"
      },
      "source": [
        "The heatmap plot shows the sparsness of the rating matrix clearly."
      ]
    },
    {
      "cell_type": "markdown",
      "metadata": {
        "id": "KFxGaZvb5kG9"
      },
      "source": [
        "<a id='MF'></a>\n",
        "# Matrix Factorization Collaborative Filtering"
      ]
    },
    {
      "cell_type": "markdown",
      "metadata": {
        "id": "B9M9Iwik5kG-"
      },
      "source": [
        "Recalling the content-based recommender system, the idea was to describe each item and each user with a vector of important features. In our example the feature vector we used had only three elements, but we are all aware that the there are way more important criteria than those three to impact our interest about a movie and sometimes these features can be more complicated than  simply the genre of the movie. Matrix Factorization assumes that we can describe a movie and a user in a form of a relatively large feature vector reasonably well. The main idea of the Matrix Factorization is to find the proper user feature vector $\\vec{x}_i$ and item feature vector $\\vec{\\theta}_j$ for all users $i=1\\cdots n_u$ and movies $j=1\\cdots n_m$ which their dot products gives a good estimation of the rating the $i$-th user would give for the $j$-th movie $y_{ij}$.\n",
        "\n",
        "**Why this method is called matrix factorization?** As we already said in the ideal case of finding correct features, the dot product of the user feature vector and the movie feature vector should result in the rating: $\\vec{x}_i\\cdot\\vec{\\theta}_j=y_{ij}$. Let us assume that we stack all the user feature vectors together in user feature matrix $\\mathbf{X}=\\begin{bmatrix}-\\vec{x}_1^T-\\\\ -\\vec{x}_2^T- \\\\ \\vdots \\\\-\\vec{x}_{n_u}^T- \\end{bmatrix}_{n_u \\times n_f}$ and all the movie feature vectors together in the movie feature matrix $\\mathbf{\\Theta}=\\begin{bmatrix}-\\vec{\\theta}_1^T-\\\\ -\\vec{\\theta}_2^T- \\\\ \\vdots \\\\-\\vec{\\theta}_{n_m}^T- \\end{bmatrix}_{n_m \\times n_f}$. Then the rating matrix can be determined as follows: \n",
        "\n",
        "\n",
        "\n",
        "\\begin{equation}\\mathbf{\\Theta} \\cdot \\mathbf{X}^T=\\mathbf{R}\\end{equation}\n",
        "\\begin{equation}\\begin{bmatrix}- \\vec{\\theta}_1^T-\\\\ - \\vec{\\theta}_2^T- \\\\ \\vdots \\\\- \\vec{\\theta}_{n_m}^T- \\end{bmatrix} \\cdot \\begin{bmatrix}|&|&\\cdots&|\\\\\n",
        "               \\vec{x_1}&\\vec{x_2}&\\cdots&\\vec{x}_{n_u}\\\\\n",
        "               |&|&\\cdots&|\\end{bmatrix}=\\mathbf{R}\\end{equation}\n",
        "\n",
        "It would be perfect if we had the right feature matrices but we don't. What we actually have is the rating matrix $\\mathbf{Y}$ and we try extract the feature matrices from  $\\mathbf{Y}$. The name **matrix factorization** comes from this point that this algorithm tends to find reasonably optimal feature matrices by factorizing the rating matrix  $\\mathbf{Y}$.\n",
        "\n",
        "**How does matrix factorization work?** Let's assume, we initilize the feature matrices with completely random values. The dot product of the $i$-th user feature vector and the $j$-th movie feature vector will give $p_{ij}$ which is probably very different to the real given rating $y_{ij}$. The idea is to find the feature matrices in a way that the error $|p_{ij}-y_{ij}|$ becomes as minimal as possible for all the given ratings. In other words, the matrix factorization turned into an optimization problem of minimizing a cost function which is the summation of all $\\color{green}{\\text{squared}}$ errors for all cells with a rating. The cost function to minimize is defined as follows:\n",
        "\n",
        "\\begin{equation}J(\\mathbf{\\Theta},\\mathbf{X})=\\frac{1}{2} \\sum\\limits_{(i,j):r(i,j)=1} (\\vec{\\theta}_{j} \\vec{x}_{i}-y_{i,j})^2\\end{equation}\n",
        "\n",
        "**How to solve such an optimization problem?** We can pass the cost function with a random starting point to a black-box derivative optimizer and wait until the optimizer finds an optimal solution, but this will take an unaffordbly long time since this optimization problem is very high dimensional. Can you guess what is the input dimension of this optimization problme? $(n_u+n_m)*n_f$, where $n_f$ is the number of features. \n",
        "\n",
        "It is more logical to calculate the gradients and movie toward the optimal solution iteratively by means of a gradient descent or conjugate gradient methods. It is very straight forward to calculate the gradients as our cost function is a quadratic function.\n",
        "\n",
        "## The Gradients\n",
        " \\begin{equation}\\frac{\\partial J}{\\partial x_i^{(k)}}=\\sum\\limits_{j:r(i,j)=1}(\\vec{\\theta}_{j} \\vec{x}_{i}-y_{i,j})\\theta^{(k)}_j,\\end{equation}\n",
        " \\begin{equation}\\frac{\\partial J}{\\partial \\theta_j^{(k)}}=\\sum\\limits_{i:r(i,j)=1}(\\vec{\\theta}_{j} \\vec{x}_{i}-y_{i,j})x^{(k)}_i,\\end{equation}\n",
        " \n",
        "where $x^{(k)}_j$ is the $k$-th element of the $i$-th user feature vector $\\vec{x}_i$. \n",
        "\n",
        "\n",
        "The main steps of the matrix factorization algorithm can be summarized as below:\n",
        "\n",
        "1. Initialize the $\\mathbf{\\Theta}$ and $\\mathbf{X}$ with random small numbers\n",
        "2. Minimize the cost function $J(\\mathbf{\\Theta},\\mathbf{X})$\n",
        "3. Use the optimized feature matrices to predict "
      ]
    },
    {
      "cell_type": "markdown",
      "metadata": {
        "id": "CRTpRrzoCBtT"
      },
      "source": [
        "<a id='MFPy'></a>\n",
        "# Matrix Factorization Implementation\n",
        "\n",
        "## Parameter Initilization Function\n",
        "This function simply gets the number of users, number of items and number of features as input and returns randomly initilized user feature matrix and item feature matrix."
      ]
    },
    {
      "cell_type": "code",
      "metadata": {
        "id": "pmXmbV2LCBtU"
      },
      "source": [
        "def initilizeFeat(nu,ni,nf,seed=42):\n",
        "    np.random.seed(seed)\n",
        "    Theta=np.random.rand(nu,nf)*0.05\n",
        "    X=np.random.rand(ni,nf)*0.05\n",
        "    return X, Theta"
      ],
      "execution_count": null,
      "outputs": []
    },
    {
      "cell_type": "markdown",
      "metadata": {
        "id": "AolyhutsCBtW"
      },
      "source": [
        "## Helper Functions\n",
        "We have two helper functions. One for flatting the feature matrices into a long 1-D array  and one which convers the long 1-D array into the feature matrices. "
      ]
    },
    {
      "cell_type": "code",
      "metadata": {
        "id": "U4tsu2D5CBtW"
      },
      "source": [
        "def flatterRev(x,nu,ni,nf):\n",
        "    X=x[0:ni*nf].reshape((ni,nf),order='F')\n",
        "    Theta=x[ni*nf:].reshape((nu,nf),order='F')\n",
        "    return X,Theta\n",
        "\n",
        "def flatter(X, Theta):\n",
        "    x=np.concatenate([X.reshape(X.shape[0]*X.shape[1],order='F'),Theta.reshape(Theta.shape[0]*Theta.shape[1],order='F')])\n",
        "    return(x)\n",
        "    "
      ],
      "execution_count": null,
      "outputs": []
    },
    {
      "cell_type": "markdown",
      "metadata": {
        "id": "1B37XR9mCBtY"
      },
      "source": [
        "# Cost Function\n",
        "The cost function is simply the implementation of the cost function formula that we have discussed earlier in a vectorized form to avoid nested for-loops for the summations. The only difference is an extra term linked with the parameter $\\lambda$, the regularization parameter. We did not describe this parameter in this blog post yet (but the older post talks about it a little bit). "
      ]
    },
    {
      "cell_type": "code",
      "metadata": {
        "id": "rDhDHcirCBtY"
      },
      "source": [
        "def costFunc(X,Theta,R,M,la=0):\n",
        "    R=np.ma.array(R, mask=M)\n",
        "    e=0.5*np.sum(np.power((np.dot(Theta,X.T)-R),2))+la*0.5*np.sum(np.power(Theta, 2))+la*0.5*np.sum(np.power(X, 2))\n",
        "    return(e/np.sum(M==False))\n",
        "\n",
        "\n",
        "def CF(x,R,M,nu,ni,nf,la=0):\n",
        "    X, Theta=flatterRev(x,nu,ni,nf)\n",
        "    error=costFunc(X,Theta,R,M,la=la)\n",
        "    return error"
      ],
      "execution_count": null,
      "outputs": []
    },
    {
      "cell_type": "markdown",
      "metadata": {
        "id": "3NNWycdFCBta"
      },
      "source": [
        "## Gradient Function"
      ]
    },
    {
      "cell_type": "code",
      "metadata": {
        "id": "Y2LllDWFCBtb"
      },
      "source": [
        "def gradFunc(x,R,M,nu,ni,nf,la=0 ):\n",
        "    X, Theta=flatterRev(x,nu,ni,nf)\n",
        "    R=np.ma.array(R, mask=M)\n",
        "    e=np.dot(Theta,X.T)-R\n",
        "    TG=np.dot(e,X)+la*Theta\n",
        "    XG=np.dot(e.T,Theta)+la*X\n",
        "    grads=np.concatenate([XG.reshape(XG.shape[0]*XG.shape[1],order='F'),TG.reshape(TG.shape[0]*TG.shape[1],order='F')])\n",
        "    return grads/np.sum(M==False)"
      ],
      "execution_count": null,
      "outputs": []
    },
    {
      "cell_type": "markdown",
      "metadata": {
        "id": "FjuyhtDSCBtc"
      },
      "source": [
        "## Training Function\n",
        "\n",
        "The trainign function is actually just applying an optimization algorithm on the cost function. We use a built-in conjugate gradient optimizer from the scipy library. You might want to try different methods."
      ]
    },
    {
      "cell_type": "code",
      "metadata": {
        "id": "7pN7dURMCBtd"
      },
      "source": [
        "def trainMF(R,M,nf,la=0,seed=42):\n",
        "    nu=R.shape[0]\n",
        "    ni=R.shape[1]\n",
        "    R=np.ma.array(R, mask=M)\n",
        "    X, Theta=initilizeFeat(nu,ni,nf,seed=seed)\n",
        "    x=flatter(X, Theta)\n",
        "    # BFGS crashes\n",
        "    #res = minimize(CF, x, args=(R,M,nu,ni,nf,la), method='BFGS',jac=gradFunc,options={'disp': True, 'gtol':1e-6}) \n",
        "    \n",
        "    #res = minimize(CF, x, args=(R,M,nu,ni,nf,la), method='Newton-CG',jac=gradFunc,options={'disp': True, 'xtol':1e-6})\n",
        "    #MSEINIT=CF(x,R,M,nu,ni,nf,la)/np.sum(M==False)\n",
        "    #print('INITMSE:'+str(MSEINIT))\n",
        "    \n",
        "    res = minimize(CF, x, args=(R,M,nu,ni,nf,la), method='CG',jac=gradFunc,options={ 'disp': True,'gtol':1e-5})\n",
        "    MSE=CF(res.x,R,M,nu,ni,nf,la)\n",
        "    return(MSE, res,nu,ni,nf)\n",
        "\n"
      ],
      "execution_count": null,
      "outputs": []
    },
    {
      "cell_type": "markdown",
      "metadata": {
        "id": "KONjC0d6CBtf"
      },
      "source": [
        "## Predicting Function"
      ]
    },
    {
      "cell_type": "code",
      "metadata": {
        "id": "xS5gRZgKCBtf"
      },
      "source": [
        "def Predict(res,nu,ni,nf,la=0):\n",
        "    X, Theta=flatterRev(res.x,nu,ni,nf)\n",
        "    predict=np.dot(Theta,X.T)\n",
        "    return(predict)\n",
        "    "
      ],
      "execution_count": null,
      "outputs": []
    },
    {
      "cell_type": "markdown",
      "metadata": {
        "id": "HpxGiPXHCBti"
      },
      "source": [
        "# Spliting Training and Test Datasets\n",
        "\n",
        "It is important to find a way to evaluate the quality of the trained recommender system. Not always a configuration resulting in a smaller cost function value will give the best possible model on the unseen data. If we increase the number of features to alrge enough value it might result in overfitting which means a very small cost function on the used data for training but a very large error on the unseen instances. In order to have a better evaluation approach we split the data to the training set and test set. This is done by randomly enabling some of the ratings for the training phase and after that using the determined model to measure the cost function on those randomly selected cells. There are different ways of spliting the training and test data sets I am using the most simpleb approach (random selection) in the following cell. \n",
        "\n",
        "As we have seen in the heatmap plot, our rating matrix does not have a homogenous distribution, so it is smarter if one tries to make sure that training and test datasets have more or less similar distributions."
      ]
    },
    {
      "cell_type": "code",
      "metadata": {
        "id": "1D_j4YlzCBti"
      },
      "source": [
        "def splitMatrix(R,M,testPer):\n",
        "    trainPer=1-testPer\n",
        "    num_user=R.shape[1]\n",
        "    num_movie=R.shape[0]\n",
        "    overallRating=np.sum(M)\n",
        "    testsize=testPer*overallRating\n",
        "    testsize=testsize.astype(int)\n",
        "\n",
        "\n",
        "    #split tarining and test dataset\n",
        "    random.seed( 9273482 )\n",
        "    ind1, ind2=np.where(M==1)\n",
        "    testSamples=random.sample(range(ind1.shape[0]), testsize)\n",
        "    testInd1=ind1[testSamples]\n",
        "    testInd2=ind2[testSamples]\n",
        "\n",
        "    trainR=copy.copy(R)\n",
        "    trainM=copy.copy(M)\n",
        "    trainR[testInd1,testInd2]=0\n",
        "    trainM[testInd1,testInd2]=0\n",
        "\n",
        "\n",
        "    M= (trainM==0)\n",
        "    trainR=np.ma.array(trainR, mask=M)\n",
        "    mu=np.average(trainR,axis=1)\n",
        "\n",
        "    testR=copy.copy(R)\n",
        "    testM=np.zeros(shape = (testR.shape[0],testR.shape[1]))\n",
        "    testM[testInd1,testInd2]=1\n",
        "    tM=(testM==0)\n",
        "    testR=testR*testM\n",
        "    testR=np.ma.array(testR, mask=tM)\n",
        "    return trainR, M, testR, tM, mu"
      ],
      "execution_count": null,
      "outputs": []
    },
    {
      "cell_type": "markdown",
      "metadata": {
        "id": "mFswi6gsCBtl"
      },
      "source": [
        "## Test Error Function\n",
        "\n",
        "There are different approaches to evalaute how a recommender system is doing on the test data. One approach is to calculate the mean squared error for the test data. Another approach is to measure some sort of predicting accuracy. In the following cell we define accuracy as the percentage of the predicted ratings which have error of 1 or less."
      ]
    },
    {
      "cell_type": "code",
      "metadata": {
        "id": "G6WFdE_SCBtm"
      },
      "source": [
        "def testMF(tR,tM,predict):\n",
        "    tR=np.ma.array(tR, mask=tM)\n",
        "    e=np.abs(tR-predict)\n",
        "    testMSE=np.sum(np.power(e,2))/np.sum(tM==False)\n",
        "    return(testMSE)\n",
        "\n",
        "\n",
        "\n",
        "def accuracyMF(tR,tM,predict):\n",
        "    tR=np.ma.array(tR, mask=tM)\n",
        "    diff=tR-predict\n",
        "    e=np.absolute(diff)\n",
        "    diff=np.ma.array(diff, mask=tM)\n",
        "    e[e>=1]=0\n",
        "    e[e!=0]=1\n",
        "    e=np.ma.array(e, mask=tM)\n",
        "    accu=np.sum(e)/np.sum(tM==False)\n",
        "    return(accu)\n",
        "\n",
        "\n",
        "def plotDensity(tR,tM,FinalPredict):\n",
        "    tR=np.ma.array(tR, mask=tM)\n",
        "    FinalPredict=np.ma.array(FinalPredict, mask=tM)\n",
        "    plt.style.use(['dark_background'])\n",
        "    sns.kdeplot(tR.flatten(), shade=True, bw=.5, color=\"blue\")\n",
        "    sns.kdeplot(FinalPredict.flatten(), shade=True, bw=.5, color=\"olive\")\n",
        "    plt.show()\n",
        "    return"
      ],
      "execution_count": null,
      "outputs": []
    },
    {
      "cell_type": "markdown",
      "metadata": {
        "id": "52wsEErMCBtn"
      },
      "source": [
        "## Looking For The Best Parameter Setting\n",
        "\n",
        "Our algorithm has two parameters which have to be set in prior: the regularization factor, $\\lambda$ and the number of features $n_f$. We can tune these parameters by doing a grid search. The cell below searches for the best $n_f$ for a fixed regualization factor. If you want activate this cell then comment the line NF=[]."
      ]
    },
    {
      "cell_type": "code",
      "metadata": {
        "id": "tQEL0xv1CBto"
      },
      "source": [
        "DORUN=False\n",
        "\n",
        "trainR, M, testR, tM, mu=splitMatrix(Y,R,0.1)\n",
        "NF=[10,20,30,50,100,200]\n",
        "myseed=5623\n",
        "if DORUN:\n",
        "    for nf in NF:\n",
        "        trainR=trainR-mu[:,None]\n",
        "        trainingError, res,nu,ni,nf=trainMF(trainR,M,nf=nf,la=0.1,seed=myseed)\n",
        "        mypredict=Predict(res,nu,ni,nf,la=0)\n",
        "        zeropredict=np.zeros(shape = (mypredict.shape[0],mypredict.shape[1]))\n",
        "        testR=testR-mu[:,None]\n",
        "        testError=testMF(testR,tM,mypredict)\n",
        "        accuracy=accuracyMF(testR,tM,mypredict)\n",
        "        accuracyTrain=accuracyMF(trainR,M,mypredict)\n",
        "        accuracyz=accuracyMF(testR,tM,zeropredict)\n",
        "        accuracyTrainz=accuracyMF(trainR,M,zeropredict)\n",
        "        print('[nf='+str(nf)+']'+'Training Error:'+str(trainingError))\n",
        "        print('[nf='+str(nf)+']'+'Test Error:'+str(testError))\n",
        "        print('[nf='+str(nf)+']'+'Accuracy After Optimization:test:'+str(accuracy))\n",
        "        print('[nf='+str(nf)+']'+'Accuracy If we always guess 0:test:'+str(accuracyz))\n",
        "        print('[nf='+str(nf)+']'+'Accuracy After Optimization:train:'+str(accuracyTrain))\n",
        "        print('[nf='+str(nf)+']'+'Accuracy If we always guess 0:train:'+str(accuracyTrainz))\n",
        "        plotDensity(testR,tM,mypredict)\n",
        " "
      ],
      "execution_count": null,
      "outputs": []
    },
    {
      "cell_type": "markdown",
      "metadata": {
        "id": "1ZPXrwdpCBtp"
      },
      "source": [
        "# Building the Recommender System Model"
      ]
    },
    {
      "cell_type": "code",
      "metadata": {
        "id": "UR5wqbuOCBtq",
        "outputId": "e442d999-b8ee-4f61-d8a8-c150267c8330",
        "colab": {
          "base_uri": "https://localhost:8080/"
        }
      },
      "source": [
        "runEXAMPLE=True\n",
        "def buildRSModel(R,M,mu=None, nf=10,la=0,seed=42, movie_names=None):\n",
        "    trainR=copy.copy(R)\n",
        "    trainM=copy.copy(M)\n",
        "\n",
        "    trainR=np.ma.array(trainR, mask=trainM)\n",
        "    if mu is None:\n",
        "        mu=np.average(trainR,axis=1)\n",
        "    trainR=trainR-mu[:,None]\n",
        "    trainingError, res,nu,ni,nf=trainMF(trainR,M,nf=nf,la=la,seed=seed)\n",
        "    model={'trainingError': trainingError, 'res':res,'nu':nu,'ni':ni,'nf':nf, 'la':la, 'movie_names':movie_names, 'mu':mu,\n",
        "          'R':R,'M':M}\n",
        "    return model\n",
        "\n",
        "#Example\n",
        "if runEXAMPLE:\n",
        "    R=mat['Y']\n",
        "    M=mat['R']\n",
        "    trainR=copy.copy(R)\n",
        "    trainM= (M==0)\n",
        "    mymodel=buildRSModel(R=trainR,M=trainM,mu=None, nf=100,la=0,seed=42, movie_names=movie_names)\n",
        "    #print(mymodel)"
      ],
      "execution_count": null,
      "outputs": [
        {
          "output_type": "stream",
          "name": "stdout",
          "text": [
            "Warning: Desired error not necessarily achieved due to precision loss.\n",
            "         Current function value: 0.158532\n",
            "         Iterations: 16\n",
            "         Function evaluations: 333\n",
            "         Gradient evaluations: 322\n"
          ]
        }
      ]
    },
    {
      "cell_type": "markdown",
      "metadata": {
        "id": "CJS6OxPKCBtr"
      },
      "source": [
        "# Predicting for User X"
      ]
    },
    {
      "cell_type": "code",
      "metadata": {
        "id": "eo-8beCZCBts",
        "outputId": "8e986259-3147-4cdd-d045-e9e937d106d5",
        "colab": {
          "base_uri": "https://localhost:8080/"
        }
      },
      "source": [
        "runEXAMPLE=True\n",
        "def predictForUserX(user_Id,model,movie_Id=None):\n",
        "    trainingError=model['trainingError']\n",
        "    res=model['res']\n",
        "    nu=model['nu']\n",
        "    ni=model['ni']\n",
        "    nf=model['nf']\n",
        "    la=model['la']\n",
        "    movie_names=model['movie_names']\n",
        "    mu=model['mu']\n",
        "    R=model['R']\n",
        "    M=model['M']\n",
        "    mypredict=Predict(res,nu,ni,nf,la=0)\n",
        "    mydata=pd.DataFrame()\n",
        "    Pred=mypredict[:,user_Id]+mu[user_Id]\n",
        "    mydata['names']=movie_names\n",
        "    mydata['predictedRating']=Pred\n",
        "    mydata['originalrating']=R[:,user_Id]\n",
        "    mydata=mydata.sort_values(by=['predictedRating'], ascending=False)\n",
        "    output=mydata[mydata['originalrating'] == 0]\n",
        "    return(output)\n",
        "\n",
        "#Example\n",
        "if runEXAMPLE:\n",
        "    print(predictForUserX(934,mymodel,movie_Id=None).head())\n"
      ],
      "execution_count": null,
      "outputs": [
        {
          "output_type": "stream",
          "name": "stdout",
          "text": [
            "                                 names  predictedRating  originalrating\n",
            "24                 Birdcage  The(1996)         3.682966               0\n",
            "755  Father of the Bride Part II(1995)         3.675550               0\n",
            "297                     Face/Off(1997)         3.622301               0\n",
            "244              Devils Own  The(1997)         3.612717               0\n",
            "288                        Evita(1996)         3.611665               0\n"
          ]
        }
      ]
    },
    {
      "cell_type": "markdown",
      "metadata": {
        "id": "kQsV2qXhCBtt"
      },
      "source": [
        "# Enter Your Own Rating\n",
        "\n",
        "You can use this function to enter your own rating and see what the system suggests. If you do not set the modelparam, then the default values of nf=100, la=0.1 are going to be used."
      ]
    },
    {
      "cell_type": "code",
      "metadata": {
        "id": "hzuoETcgCBtu"
      },
      "source": [
        "def weRecommend(myratings,modelparam=None):\n",
        "    movie_names = pd.read_csv('movie_ids.txt',delimiter=';',header=None)[1]\n",
        "    mat = scipy.io.loadmat('ex8_movies.mat')\n",
        "    print(\"Reading the data\")\n",
        "    R=mat['Y']\n",
        "    M=mat['R']\n",
        "    trainR=copy.copy(R)\n",
        "    trainM= (M==0)\n",
        "    num_user=R.shape[1]\n",
        "    num_movie=R.shape[0]\n",
        "    \n",
        "    \n",
        "    myratings=myratings.sort_values(by=['names'], ascending=False)\n",
        "    movies=copy.copy(movie_names)\n",
        "    movies=movies.sort_values( ascending=False)\n",
        "    indices=movies[movies.isin( myratings['names'])].index\n",
        "    newuserratingR=np.zeros(num_movie)\n",
        "    newuserratingM=np.zeros(num_movie)\n",
        "    newuserratingR[indices]=myratings['rating']\n",
        "    newuserratingM[indices]=1\n",
        "    \n",
        "    newuserratingM= (newuserratingM==0)\n",
        "    trainR=np.concatenate((newuserratingR[:,None],trainR),axis=1)\n",
        "    trainM=np.concatenate((newuserratingM[:,None],trainM),axis=1)\n",
        "    \n",
        "    print(\"Training the Recommender System...\")\n",
        "    if modelparam is None:\n",
        "        mymodel=buildRSModel(R=trainR,M=trainM,mu=None, nf=100,la=0.1, movie_names=movie_names)\n",
        "    else:\n",
        "        nf=modelparam['nf']\n",
        "        la=modelparam['la'] \n",
        "        mymodel=buildRSModel(R=trainR,M=trainM,mu=None, nf=nf,la=la, movie_names=movie_names)\n",
        "    print(\"Training is successfully finished\")   \n",
        "    bests=predictForUserX(0,mymodel,movie_Id=None).head(15)\n",
        "    worsts=predictForUserX(0,mymodel,movie_Id=None).tail(15)\n",
        "    print(\"Predicting you're ratings:\")\n",
        "    bests=bests.iloc[:, :-1]\n",
        "    worsts=worsts.iloc[:, :-1]\n",
        "    output={'bests':bests,'worsts':worsts}\n",
        "    return output\n",
        "\n",
        "  \n"
      ],
      "execution_count": null,
      "outputs": []
    }
  ]
}